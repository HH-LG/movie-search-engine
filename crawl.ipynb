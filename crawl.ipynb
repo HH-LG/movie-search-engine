{
 "cells": [
  {
   "cell_type": "code",
   "execution_count": 2,
   "metadata": {},
   "outputs": [],
   "source": [
    "from time import sleep\n",
    "import requests\n",
    "from bs4 import BeautifulSoup\n",
    "import csv\n",
    "# 最多爬取2500部电影\n",
    "# 每个电影爬取10条影评\n",
    "# user-agent\n",
    "headers = {\n",
    "    \"User-Agent\":\n",
    "        \"Mozilla/5.0 (Windows NT 10.0; Win64; x64) AppleWebKit/537.36 (KHTML, like Gecko) Chrome/114.0.0.0 \"\n",
    "        \"Safari/537.36 Edg/114.0.1823.58\",\n",
    "    \"Connection\":\n",
    "        \"keep-alive\",\n",
    "    \"Referer\":\n",
    "        \"https://www.douban.com\"  # 站内访问\n",
    "}\n",
    "URL_SET = set()\n",
    "REVIEW_NUM = 10\n",
    "DATA_PATH = './data/'"
   ]
  },
  {
   "cell_type": "code",
   "execution_count": 3,
   "metadata": {},
   "outputs": [],
   "source": [
    "# 请求网页封装\n",
    "def request_douban(url, headers=headers):\n",
    "    while True:\n",
    "        response = requests.get(url, headers=headers)\n",
    "        if response.status_code != 200:\n",
    "            print('被拦截了，休息一下')\n",
    "            sleep(600)\n",
    "        else:\n",
    "            break\n",
    "    sleep(1)\n",
    "    return response\n"
   ]
  },
  {
   "cell_type": "code",
   "execution_count": 4,
   "metadata": {},
   "outputs": [],
   "source": [
    "# 抓取影评\n",
    "def crawl_reviews(url, num = REVIEW_NUM):\n",
    "    try:\n",
    "        # 抓取num条影评\n",
    "        review_list = []\n",
    "        for i in range(0, num, 20): # 每页20条\n",
    "            url_review = url + '?start=' + str(i)\n",
    "            response = request_douban(url_review)\n",
    "            soup = BeautifulSoup(response.text, 'lxml')\n",
    "\n",
    "            # 抓取影评\n",
    "            review_links = soup.select('div.main.review-item > div.main-bd > h2 > a')\n",
    "            if len(review_links) == 0:\n",
    "                return review_list\n",
    "            for index, link in enumerate(review_links):\n",
    "                if index == num - i: # 说明已经抓取了num条影评\n",
    "                    break\n",
    "                url_report = link['href']\n",
    "                response = request_douban(url_report)\n",
    "                soup = BeautifulSoup(response.text, 'lxml')\n",
    "                # 处理头部信息\n",
    "                header = soup.select('div.main > header.main-hd')[0]\n",
    "                # 作者\n",
    "                author = header.select('a')[0]\n",
    "                author_name = author.text.strip()\n",
    "                # 时间\n",
    "                time_span = header.select('div.main-meta > span')[0]\n",
    "                time = time_span.text.strip()\n",
    "\n",
    "                # 作者评分\n",
    "                try:\n",
    "                    author_star_span = soup.select('span.main-title-hide')[0]\n",
    "                    author_star = author_star_span.text.strip()\n",
    "                except:\n",
    "                    author_star = ''\n",
    "\n",
    "                # 处理主体信息\n",
    "                main = soup.select('div.main-bd')[0]\n",
    "                # 影评\n",
    "                review = main.select('div > div.review-content.clearfix')[0]\n",
    "                review_text = '\\n'.join([r.text for r in review])\n",
    "            \n",
    "                # 处理底部信息\n",
    "                footer = main.select('div.main-panel-useful')[0]\n",
    "                # 有用数\n",
    "                useful = footer.select('button.btn.useful_count.j.a_show_login')[0]\n",
    "                useful_count = useful.text.replace('有用', '').strip()\n",
    "                # 没用数\n",
    "                useless = footer.select('button.btn.useless_count.j.a_show_login')[0]\n",
    "                useless_count = useless.text.replace('没用', '').strip()\n",
    "\n",
    "                # 综合信息\n",
    "                review = {\n",
    "                    '作者': author_name,\n",
    "                    '作者评分': author_star,\n",
    "                    '时间': time,\n",
    "                    '影评': review_text,\n",
    "                    '有用数': useful_count,\n",
    "                    '没用数': useless_count\n",
    "                }\n",
    "                review_list.append(review)\n",
    "\n",
    "                # 检查各部分信息\n",
    "                for key, value in review.items():\n",
    "                    if value == '':\n",
    "                        if key == '作者评分':\n",
    "                            continue\n",
    "                        print('读取影评时,', key, '为空')\n",
    "                        print(url_report)\n",
    "        return review_list\n",
    "    except Exception as e:\n",
    "        print('读取影评时出错:', e)\n",
    "        print(url_report)\n",
    "        return review_list\n"
   ]
  },
  {
   "cell_type": "code",
   "execution_count": 5,
   "metadata": {},
   "outputs": [],
   "source": [
    "# 爬取一部电影，并返回相关电影的url（加入到URL_SET中）\n",
    "def crawl_movie(url):\n",
    "    response = request_douban(url)\n",
    "    soup = BeautifulSoup(response.text, 'html.parser')\n",
    "\n",
    "    # 处理详情页\n",
    "    header = soup.select('#content > h1')[0]\n",
    "    # 爬电影名字\n",
    "    movie_name_span = header.select('h1 > span')[0]\n",
    "    movie_name = movie_name_span.text.strip()\n",
    "    # 爬电影年份\n",
    "    movie_year_span = header.select('h1 > span.year')[0] \n",
    "    movie_year = movie_year_span.text.strip('()')\n",
    "\n",
    "    # 爬电影封面\n",
    "    movie_cover = soup.select('#mainpic > a > img')[0]['src']\n",
    "    cover_url = movie_cover.strip()\n",
    "    # 爬评分\n",
    "    movie_star_rating = soup.select('div.rating_self.clearfix > strong.ll.rating_num')[0]\n",
    "    movie_star = movie_star_rating.text.strip()\n",
    "    # 导演\n",
    "    movie_director_span = soup.select('#info > span > span.attrs')[0]\n",
    "    movie_director = movie_director_span.text.strip()\n",
    "    # 爬演员\n",
    "    try:\n",
    "        movie_actor_span = soup.select('#info > span.actor > span.attrs')[0]\n",
    "        movie_actor = movie_actor_span.text.strip('/')\n",
    "    except:\n",
    "        movie_actor = ''\n",
    "    # 爬简介\n",
    "    intro_span_all0 = soup.select('#link-report-intra.indent > span.all.hidden')\n",
    "    intro_span_all1 = soup.select('#link-report-intra.indent > span')\n",
    "    try:\n",
    "        intro_span = intro_span_all1[0] if len(intro_span_all0) == 0 else intro_span_all0[0]\n",
    "        intro = intro_span.text.strip()\n",
    "    except:\n",
    "        intro = ''\n",
    "    # 爬影评\n",
    "    review_url = url + 'reviews'\n",
    "    reviews = crawl_reviews(review_url)\n",
    "\n",
    "    # 综合信息\n",
    "    movie_info = {\n",
    "        '电影名': movie_name,\n",
    "        '年份': movie_year,\n",
    "        '评分': movie_star,\n",
    "        '封面': cover_url,\n",
    "        '导演': movie_director,\n",
    "        '演员': movie_actor,\n",
    "        '简介': intro,\n",
    "    }\n",
    "    if '豆瓣' in intro:\n",
    "        print('简介中有豆瓣')\n",
    "        print(url)\n",
    "    for key, value in movie_info.items():\n",
    "        if value == '':\n",
    "            print(key, '为空')\n",
    "            print(url)\n",
    "\n",
    "    return (movie_info, reviews)\n",
    "# 爬取相关电影，加入到URL_SET中\n",
    "def crawl_related_movie(url): \n",
    "    response = request_douban(url)\n",
    "    soup = BeautifulSoup(response.text, 'html.parser')\n",
    "    \n",
    "    # 相关电影\n",
    "    related_links = soup.select('div.recommendations-bd > dl > dt > a')\n",
    "    if len(related_links) != 10:\n",
    "        print('相关电影数目不为10')\n",
    "        print(url)\n",
    "    for link in related_links:\n",
    "        related_url = link['href'].rstrip('?from=subject-page')\n",
    "        if related_url not in URL_SET:\n",
    "            url_queue.append(related_url)\n",
    "            URL_SET.add(related_url)"
   ]
  },
  {
   "cell_type": "code",
   "execution_count": 6,
   "metadata": {},
   "outputs": [],
   "source": [
    "'''爬取豆瓣电影top250链接'''\n",
    "def top250_crawer():\n",
    "    url_list = []\n",
    "    for i in range(0, 250, 25):\n",
    "        # 生成url\n",
    "        url_str = \"https://movie.douban.com/top250?start={}\".format(i)\n",
    "        response = request_douban(url_str)\n",
    "        soup = BeautifulSoup(response.text, 'html.parser')\n",
    "        movie_items = soup.find_all('div', class_='item')\n",
    "\n",
    "        for item in movie_items:\n",
    "            # 加入相关电影的超链接\n",
    "            a = item.find_all('a')\n",
    "            url_list.append(a[1]['href'])\n",
    "    return url_list"
   ]
  },
  {
   "cell_type": "code",
   "execution_count": 121,
   "metadata": {},
   "outputs": [
    {
     "name": "stdout",
     "output_type": "stream",
     "text": [
      "250\n",
      "250\n",
      "相关电影数目不为1089 缓冲区长度： 416 迭代次数： 373\n",
      "相关电影数目不为10333 缓冲区长度： 1137 迭代次数： 1196\n",
      "相关电影数目不为10362 缓冲区长度： 1144 迭代次数： 1218\n",
      "现在的电影数量： 2503 缓冲区长度： 1216 迭代次数： 1287\r"
     ]
    }
   ],
   "source": [
    "top_urls = top250_crawer()\n",
    "URL_SET = set(top_urls)\n",
    "# print(URL_SET)\n",
    "url_queue = top_urls\n",
    "print(len(URL_SET))\n",
    "print(len(url_queue))\n",
    "i = 0\n",
    "while len(URL_SET) < 2500 and len(url_queue) != 0:\n",
    "    url = url_queue.pop(0)\n",
    "    crawl_related_movie(url)\n",
    "    i += 1\n",
    "    print('现在的电影数量：', len(URL_SET), '缓冲区长度：', len(url_queue), '迭代次数：', i, end='\\r')"
   ]
  },
  {
   "cell_type": "code",
   "execution_count": 122,
   "metadata": {},
   "outputs": [],
   "source": [
    "url_header = ['电影url']\n",
    "with open(DATA_PATH + 'movie_urls.csv', 'a', newline='', encoding='utf-8') as f:\n",
    "    writer = csv.DictWriter(f, fieldnames=url_header)\n",
    "    writer.writeheader()\n",
    "    for url in URL_SET:\n",
    "        writer.writerow({url_header:url})"
   ]
  },
  {
   "cell_type": "code",
   "execution_count": 7,
   "metadata": {},
   "outputs": [],
   "source": [
    "def write_reviews_in_xml(f, review_list):\n",
    "    f.write('<reviews>\\n')\n",
    "    for review in review_list:\n",
    "        f.write('<review>\\n')\n",
    "        for key, value in review.items():\n",
    "            f.write('<' + key + '>')\n",
    "            f.write(value)\n",
    "            f.write('</' + key + '>\\n')\n",
    "        f.write('</review>\\n')\n",
    "    f.write('</reviews>\\n')\n",
    "def write_movie_in_xml(dic, review_list, index, doc_dir_path):\n",
    "    with open(doc_dir_path + '{}.xml'.format(index), 'w', encoding='utf-8') as f:\n",
    "        f.write('<?xml version=\"1.0\" encoding=\"UTF-8\"?>\\n')\n",
    "        f.write('<movie>\\n')\n",
    "        for key, value in dic.items():\n",
    "            f.write('<' + key + '>')\n",
    "            f.write(value)\n",
    "            f.write('</' + key + '>\\n')\n",
    "        write_reviews_in_xml(f, review_list)\n",
    "        f.write('</movie>\\n')"
   ]
  },
  {
   "cell_type": "code",
   "execution_count": 8,
   "metadata": {},
   "outputs": [
    {
     "name": "stdout",
     "output_type": "stream",
     "text": [
      "2503\n"
     ]
    }
   ],
   "source": [
    "# 读取所有电影的url\n",
    "url_list = []\n",
    "with open(DATA_PATH + 'movie_urls.csv', 'r', encoding='utf-8') as f:\n",
    "    reader = csv.DictReader(f)\n",
    "    for row in reader:\n",
    "        url = row['电影url']\n",
    "        url_list.append(url)\n",
    "print(len(url_list))"
   ]
  },
  {
   "cell_type": "code",
   "execution_count": 9,
   "metadata": {},
   "outputs": [
    {
     "name": "stdout",
     "output_type": "stream",
     "text": [
      "crawling 248 ...\r"
     ]
    }
   ],
   "source": [
    "delta = 247\n",
    "for index, url in enumerate(url_list[delta:]):\n",
    "    index += delta\n",
    "    print('crawling', index, '...', end='\\r')\n",
    "    dic, reviews = crawl_movie(url)\n",
    "    write_movie_in_xml(dic, reviews, index, DATA_PATH + 'movies/')"
   ]
  },
  {
   "cell_type": "code",
   "execution_count": 9,
   "metadata": {},
   "outputs": [
    {
     "name": "stdout",
     "output_type": "stream",
     "text": [
      "被拦截了，休息一下\n"
     ]
    }
   ],
   "source": [
    "dic, reviews = crawl_movie(url_list[125])\n",
    "write_movie_in_xml(dic, reviews, 125, './data/movies/')"
   ]
  },
  {
   "cell_type": "code",
   "execution_count": 12,
   "metadata": {},
   "outputs": [],
   "source": [
    "write_movie_in_xml(dic, reviews, 90, './data/movies/')"
   ]
  },
  {
   "cell_type": "code",
   "execution_count": 11,
   "metadata": {},
   "outputs": [
    {
     "data": {
      "text/plain": [
       "'https://movie.douban.com/subject/26630167/'"
      ]
     },
     "execution_count": 11,
     "metadata": {},
     "output_type": "execute_result"
    }
   ],
   "source": [
    "url_list[125]"
   ]
  },
  {
   "cell_type": "code",
   "execution_count": null,
   "metadata": {},
   "outputs": [],
   "source": []
  }
 ],
 "metadata": {
  "kernelspec": {
   "display_name": "Python 3",
   "language": "python",
   "name": "python3"
  },
  "language_info": {
   "codemirror_mode": {
    "name": "ipython",
    "version": 3
   },
   "file_extension": ".py",
   "mimetype": "text/x-python",
   "name": "python",
   "nbconvert_exporter": "python",
   "pygments_lexer": "ipython3",
   "version": "3.8.10"
  }
 },
 "nbformat": 4,
 "nbformat_minor": 2
}
