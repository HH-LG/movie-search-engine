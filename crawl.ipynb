{
 "cells": [
  {
   "cell_type": "code",
   "execution_count": 3,
   "metadata": {},
   "outputs": [],
   "source": [
    "from time import sleep\n",
    "import requests\n",
    "from bs4 import BeautifulSoup\n",
    "import csv\n",
    "# 最多爬取2500部电影\n",
    "# 每个电影爬取10条影评\n",
    "# user-agent\n",
    "headers = {\n",
    "    \"User-Agent\":\n",
    "        \"Mozilla/5.0 (Windows NT 10.0; Win64; x64) AppleWebKit/537.36 (KHTML, like Gecko) Chrome/114.0.0.0 \"\n",
    "        \"Safari/537.36 Edg/114.0.1823.58\",\n",
    "    \"Connection\":\n",
    "        \"keep-alive\",\n",
    "    \"Referer\":\n",
    "        \"https://www.douban.com\"  # 站内访问\n",
    "}\n",
    "URL_SET = set()\n",
    "REVIEW_NUM = 10\n"
   ]
  },
  {
   "cell_type": "code",
   "execution_count": 12,
   "metadata": {},
   "outputs": [],
   "source": [
    "# 请求网页封装\n",
    "def request_douban(url, headers=headers):\n",
    "    response = requests.get(url, headers=headers)\n",
    "    if response.status_code != 200:\n",
    "        print('被拦截了，休息一下')\n",
    "        exit(0)\n",
    "    sleep(1)\n",
    "    return response\n"
   ]
  },
  {
   "cell_type": "code",
   "execution_count": 59,
   "metadata": {},
   "outputs": [],
   "source": [
    "# 抓取影评\n",
    "def crawl_reviews(url, num = REVIEW_NUM):\n",
    "    # 抓取num条影评\n",
    "    for i in range(0, num, 20): # 每页20条\n",
    "        url_review = url + '?start=' + str(i)\n",
    "        response = request_douban(url_review)\n",
    "        soup = BeautifulSoup(response.text, 'lxml')\n",
    "\n",
    "        # 抓取影评\n",
    "        review_list = []\n",
    "        review_links = soup.select('div.main.review-item > div.main-bd > h2 > a')\n",
    "        for index, link in enumerate(review_links):\n",
    "            if index == num - i: # 说明已经抓取了num条影评\n",
    "                break\n",
    "            url_report = link['href']\n",
    "            response = request_douban(url_report)\n",
    "            soup = BeautifulSoup(response.text, 'lxml')\n",
    "            # 处理头部信息\n",
    "            header = soup.select('div.main > header.main-hd')[0]\n",
    "            # 作者\n",
    "            author = header.select('a')[0]\n",
    "            author_name = author.text.strip()\n",
    "            # 作者评分\n",
    "            author_star_span = soup.select('span.main-title-hide')[0]\n",
    "            author_star = author_star_span.text.strip()\n",
    "\n",
    "            # 处理主体信息\n",
    "            main = soup.select('div.main-bd')[0]\n",
    "            # 影评\n",
    "            review = main.select('div > div.review-content.clearfix > p')\n",
    "            review_text = '\\n'.join([p.text.strip() for p in review])\n",
    "            \n",
    "            # 处理底部信息\n",
    "            footer = main.select('div.main-panel-useful')[0]\n",
    "            # 有用数\n",
    "            useful = footer.select('button.btn.useful_count.j.a_show_login')[0]\n",
    "            useful_count = useful.text.replace('有用', '').strip()\n",
    "            # 没用数\n",
    "            useless = footer.select('button.btn.useless_count.j.a_show_login')[0]\n",
    "            useless_count = useless.text.replace('没用', '').strip()\n",
    "\n",
    "            # 综合信息\n",
    "            review = {\n",
    "                '作者': author_name,\n",
    "                '作者评分': author_star,\n",
    "                '影评': review_text,\n",
    "                '有用数': useful_count,\n",
    "                '没用数': useless_count\n",
    "            }\n",
    "            review_list.append(review)\n",
    "\n",
    "            # 暂时加个break\n",
    "            break\n",
    "        break\n",
    "    return review_list\n"
   ]
  },
  {
   "cell_type": "code",
   "execution_count": 120,
   "metadata": {},
   "outputs": [],
   "source": [
    "# 爬取一部电影，并返回相关电影的url（加入到URL_SET中）\n",
    "def crawl_movie(url):\n",
    "    response = request_douban(url)\n",
    "    soup = BeautifulSoup(response.text, 'html.parser')\n",
    "\n",
    "    # 处理详情页\n",
    "    header = soup.select('#content > h1')[0]\n",
    "    # 爬电影名字\n",
    "    movie_name_span = header.select('h1 > span')[0]\n",
    "    movie_name = movie_name_span.text.strip()\n",
    "    # 爬电影年份\n",
    "    movie_year_span = header.select('h1 > span.year')[0] \n",
    "    movie_year = movie_year_span.text.strip()\n",
    "\n",
    "    # 爬电影封面\n",
    "    movie_cover = soup.select('#mainpic > a > img')[0]['src']\n",
    "    cover_url = movie_cover.strip()\n",
    "    # 爬评分\n",
    "    movie_star_rating = soup.select('div.rating_self.clearfix > strong.ll.rating_num')[0]\n",
    "    movie_star = movie_star_rating.text.strip()\n",
    "    # 导演\n",
    "    movie_director_span = soup.select('#info > span > span.attrs')[0]\n",
    "    movie_director = movie_director_span.text.strip()\n",
    "    # 爬演员\n",
    "    movie_actor_span = soup.select('#info > span.actor > span.attrs')[0]\n",
    "    movie_actor = movie_actor_span.text.strip('/')\n",
    "    # 爬简介\n",
    "    intro = soup.find('div', class_='indent', id='link-report-intra')\n",
    "    intro = intro.select_one('.all.hidden').text.replace(' ', '')\n",
    "    # 爬影评\n",
    "    review_url = url + 'reviews'\n",
    "    reviews = crawl_reviews(review_url)\n",
    "    # 综合信息\n",
    "    movie_info = {\n",
    "        '电影名': movie_name,\n",
    "        '年份': movie_year,\n",
    "        '评分': movie_star,\n",
    "        '封面': cover_url,\n",
    "        '导演': movie_director,\n",
    "        '演员': movie_actor,\n",
    "        '简介': intro,\n",
    "        '影评': reviews\n",
    "    }\n",
    "\n",
    "    return movie_info\n",
    "# 爬取相关电影，加入到URL_SET中\n",
    "def crawl_related_movie(url): \n",
    "    response = request_douban(url)\n",
    "    soup = BeautifulSoup(response.text, 'html.parser')\n",
    "    \n",
    "    # 相关电影\n",
    "    related_links = soup.select('div.recommendations-bd > dl > dt > a')\n",
    "    if len(related_links) != 10:\n",
    "        print('相关电影数目不为10')\n",
    "    for link in related_links:\n",
    "        related_url = link['href'].rstrip('?from=subject-page')\n",
    "        if related_url not in URL_SET:\n",
    "            url_queue.append(related_url)\n",
    "            URL_SET.add(related_url)"
   ]
  },
  {
   "cell_type": "code",
   "execution_count": 117,
   "metadata": {},
   "outputs": [],
   "source": [
    "\n",
    "'''爬取豆瓣电影top250链接'''\n",
    "def top250_crawer():\n",
    "    url_list = []\n",
    "    for i in range(0, 250, 25):\n",
    "        # 生成url\n",
    "        url_str = \"https://movie.douban.com/top250?start={}\".format(i)\n",
    "        response = request_douban(url_str)\n",
    "        soup = BeautifulSoup(response.text, 'html.parser')\n",
    "        movie_items = soup.find_all('div', class_='item')\n",
    "\n",
    "        for item in movie_items:\n",
    "            # 加入相关电影的超链接\n",
    "            a = item.find_all('a')\n",
    "            url_list.append(a[1]['href'])\n",
    "    return url_list"
   ]
  },
  {
   "cell_type": "code",
   "execution_count": 121,
   "metadata": {},
   "outputs": [
    {
     "name": "stdout",
     "output_type": "stream",
     "text": [
      "250\n",
      "250\n",
      "现在的电影数量： 270 缓冲区长度： 242 迭代次数： 28\r"
     ]
    }
   ],
   "source": [
    "top_urls = top250_crawer()\n",
    "URL_SET = set(top_urls)\n",
    "# print(URL_SET)\n",
    "url_queue = top_urls\n",
    "print(len(URL_SET))\n",
    "print(len(url_queue))\n",
    "i = 0\n",
    "while len(URL_SET) < 2500 and len(url_queue) != 0:\n",
    "    url = url_queue.pop(0)\n",
    "    crawl_related_movie(url)\n",
    "    i += 1\n",
    "    print('现在的电影数量：', len(URL_SET), '缓冲区长度：', len(url_queue), '迭代次数：', i, end='\\r')"
   ]
  },
  {
   "cell_type": "code",
   "execution_count": 100,
   "metadata": {},
   "outputs": [],
   "source": [
    "url_header = ['电影url']\n",
    "with open('movie_urls', 'a', newline='', encoding='utf-8') as f:\n",
    "    writer = csv.DictWriter(f, fieldnames=url_header)\n",
    "    writer.writeheader()\n",
    "    for url in URL_SET:\n",
    "        writer.writerow({url_header[0]:url})"
   ]
  },
  {
   "cell_type": "code",
   "execution_count": null,
   "metadata": {},
   "outputs": [],
   "source": [
    "dic = crawl_movie(top_urls[0])"
   ]
  },
  {
   "cell_type": "code",
   "execution_count": 81,
   "metadata": {},
   "outputs": [
    {
     "name": "stdout",
     "output_type": "stream",
     "text": [
      "{'https://movie.douban.com/subject/25895901/', 'https://movie.douban.com/subject/1291548/', 'https://movie.douban.com/subject/3541415/', 'https://movie.douban.com/subject/1291585/', 'https://movie.douban.com/subject/1291879/', 'https://movie.douban.com/subject/1293350/', 'https://movie.douban.com/subject/1296996/', 'https://movie.douban.com/subject/27010768/', 'https://movie.douban.com/subject/1297192/', 'https://movie.douban.com/subject/11026735/', 'https://movie.douban.com/subject/1291832/', 'https://movie.douban.com/subject/1292262/', 'https://movie.douban.com/subject/1305164/', 'https://movie.douban.com/subject/1849031/', 'https://movie.douban.com/subject/1300992/', 'https://movie.douban.com/subject/1291549/', 'https://movie.douban.com/subject/5912992/', 'https://movie.douban.com/subject/1308857/', 'https://movie.douban.com/subject/1292224/', 'https://movie.douban.com/subject/1291552/', 'https://movie.douban.com/subject/1292000/', 'https://movie.douban.com/subject/1307315/', 'https://movie.douban.com/subject/1302827/', 'https://movie.douban.com/subject/1418019/', 'https://movie.douban.com/subject/1418200/', 'https://movie.douban.com/subject/1303021/', 'https://movie.douban.com/subject/1310177/', 'https://movie.douban.com/subject/11525673/', 'https://movie.douban.com/subject/5322596/', 'https://movie.douban.com/subject/1292679/', 'https://movie.douban.com/subject/1292213/', 'https://movie.douban.com/subject/1300299/', 'https://movie.douban.com/subject/10533913/', 'https://movie.douban.com/subject/1291844/', 'https://movie.douban.com/subject/1438652/', 'https://movie.douban.com/subject/1303394/', 'https://movie.douban.com/subject/10777687/', 'https://movie.douban.com/subject/1293182/', 'https://movie.douban.com/subject/1292287/', 'https://movie.douban.com/subject/1291578/', 'https://movie.douban.com/subject/2222996/', 'https://movie.douban.com/subject/1309163/', 'https://movie.douban.com/subject/1419936/', 'https://movie.douban.com/subject/1292849/', 'https://movie.douban.com/subject/1293172/', 'https://movie.douban.com/subject/21360417/', 'https://movie.douban.com/subject/1417598/', 'https://movie.douban.com/subject/1292063/', 'https://movie.douban.com/subject/1959195/', 'https://movie.douban.com/subject/1293359/', 'https://movie.douban.com/subject/1297052/', 'https://movie.douban.com/subject/1296339/', 'https://movie.douban.com/subject/1305690/', 'https://movie.douban.com/subject/3008247/', 'https://movie.douban.com/subject/25980443/', 'https://movie.douban.com/subject/2051007/', 'https://movie.douban.com/subject/25724855/', 'https://movie.douban.com/subject/2353023/', 'https://movie.douban.com/subject/6874403/', 'https://movie.douban.com/subject/3075287/', 'https://movie.douban.com/subject/1296909/', 'https://movie.douban.com/subject/2131459/', 'https://movie.douban.com/subject/1851857/', 'https://movie.douban.com/subject/1485260/', 'https://movie.douban.com/subject/1306029/', 'https://movie.douban.com/subject/1291992/', 'https://movie.douban.com/subject/1291999/', 'https://movie.douban.com/subject/1295124/', 'https://movie.douban.com/subject/2129039/', 'https://movie.douban.com/subject/1294408/', 'https://movie.douban.com/subject/1793929/', 'https://movie.douban.com/subject/3072124/', 'https://movie.douban.com/subject/1959877/', 'https://movie.douban.com/subject/1292223/', 'https://movie.douban.com/subject/1300117/', 'https://movie.douban.com/subject/1296141/', 'https://movie.douban.com/subject/1293460/', 'https://movie.douban.com/subject/1862151/', 'https://movie.douban.com/subject/1293318/', 'https://movie.douban.com/subject/1889243/', 'https://movie.douban.com/subject/2334904/', 'https://movie.douban.com/subject/1301753/', 'https://movie.douban.com/subject/1291561/', 'https://movie.douban.com/subject/1428175/', 'https://movie.douban.com/subject/4917726/', 'https://movie.douban.com/subject/27060077/', 'https://movie.douban.com/subject/6985810/', 'https://movie.douban.com/subject/24750126/', 'https://movie.douban.com/subject/26799731/', 'https://movie.douban.com/subject/1292401/', 'https://movie.douban.com/subject/1900841/', 'https://movie.douban.com/subject/25934014/', 'https://movie.douban.com/subject/1293323/', 'https://movie.douban.com/subject/4920389/', 'https://movie.douban.com/subject/2213597/', 'https://movie.douban.com/subject/1296736/', 'https://movie.douban.com/subject/5989818/', 'https://movie.douban.com/subject/1422283/', 'https://movie.douban.com/subject/1291870/', 'https://movie.douban.com/subject/4268598/', 'https://movie.douban.com/subject/1291841/', 'https://movie.douban.com/subject/1292329/', 'https://movie.douban.com/subject/4202302/', 'https://movie.douban.com/subject/25986180/', 'https://movie.douban.com/subject/1292365/', 'https://movie.douban.com/subject/3319755/', 'https://movie.douban.com/subject/1292226/', 'https://movie.douban.com/subject/1292370/', 'https://movie.douban.com/subject/4848115/', 'https://movie.douban.com/subject/1304141/', 'https://movie.douban.com/subject/3011091/', 'https://movie.douban.com/subject/1302467/', 'https://movie.douban.com/subject/1291579/', 'https://movie.douban.com/subject/1294639/', 'https://movie.douban.com/subject/1292208/', 'https://movie.douban.com/subject/2209573/', 'https://movie.douban.com/subject/1929463/', 'https://movie.douban.com/subject/3011051/', 'https://movie.douban.com/subject/1867345/', 'https://movie.douban.com/subject/1306249/', 'https://movie.douban.com/subject/1291546/', 'https://movie.douban.com/subject/1291858/', 'https://movie.douban.com/subject/1858711/', 'https://movie.douban.com/subject/24733428/', 'https://movie.douban.com/subject/1291544/', 'https://movie.douban.com/subject/1978709/', 'https://movie.douban.com/subject/1307914/', 'https://movie.douban.com/subject/1780330/', 'https://movie.douban.com/subject/27119724/', 'https://movie.douban.com/subject/1304102/', 'https://movie.douban.com/subject/1291557/', 'https://movie.douban.com/subject/1292220/', 'https://movie.douban.com/subject/26683290/', 'https://movie.douban.com/subject/1299398/', 'https://movie.douban.com/subject/26430107/', 'https://movie.douban.com/subject/1308767/', 'https://movie.douban.com/subject/1395091/', 'https://movie.douban.com/subject/6786002/', 'https://movie.douban.com/subject/3742360/', 'https://movie.douban.com/subject/1295038/', 'https://movie.douban.com/subject/1298624/', 'https://movie.douban.com/subject/1295644/', 'https://movie.douban.com/subject/1292656/', 'https://movie.douban.com/subject/10577869/', 'https://movie.douban.com/subject/30170448/', 'https://movie.douban.com/subject/1297630/', 'https://movie.douban.com/subject/1306861/', 'https://movie.douban.com/subject/25917973/', 'https://movie.douban.com/subject/1292337/', 'https://movie.douban.com/subject/27059130/', 'https://movie.douban.com/subject/26787574/', 'https://movie.douban.com/subject/1292064/', 'https://movie.douban.com/subject/6534248/', 'https://movie.douban.com/subject/1291822/', 'https://movie.douban.com/subject/26325320/', 'https://movie.douban.com/subject/34874432/', 'https://movie.douban.com/subject/2133323/', 'https://movie.douban.com/subject/1457217/', 'https://movie.douban.com/subject/1291572/', 'https://movie.douban.com/subject/1292052/', 'https://movie.douban.com/subject/26387939/', 'https://movie.douban.com/subject/1291875/', 'https://movie.douban.com/subject/25958717/', 'https://movie.douban.com/subject/6307447/', 'https://movie.douban.com/subject/1292343/', 'https://movie.douban.com/subject/1297447/', 'https://movie.douban.com/subject/1297518/', 'https://movie.douban.com/subject/1418834/', 'https://movie.douban.com/subject/1292001/', 'https://movie.douban.com/subject/26611804/', 'https://movie.douban.com/subject/10808442/', 'https://movie.douban.com/subject/1578507/', 'https://movie.douban.com/subject/1293839/', 'https://movie.douban.com/subject/1291543/', 'https://movie.douban.com/subject/3011235/', 'https://movie.douban.com/subject/26580232/', 'https://movie.douban.com/subject/10463953/', 'https://movie.douban.com/subject/1302425/', 'https://movie.douban.com/subject/25773932/', 'https://movie.douban.com/subject/1297359/', 'https://movie.douban.com/subject/3395373/', 'https://movie.douban.com/subject/1295409/', 'https://movie.douban.com/subject/1291828/', 'https://movie.douban.com/subject/1292274/', 'https://movie.douban.com/subject/1307856/', 'https://movie.douban.com/subject/1293908/', 'https://movie.douban.com/subject/1309055/', 'https://movie.douban.com/subject/1300267/', 'https://movie.douban.com/subject/25662329/', 'https://movie.douban.com/subject/21318488/', 'https://movie.douban.com/subject/4739952/', 'https://movie.douban.com/subject/1295399/', 'https://movie.douban.com/subject/3287562/', 'https://movie.douban.com/subject/1652587/', 'https://movie.douban.com/subject/2149806/', 'https://movie.douban.com/subject/1292722/', 'https://movie.douban.com/subject/5300054/', 'https://movie.douban.com/subject/3442220/', 'https://movie.douban.com/subject/1865703/', 'https://movie.douban.com/subject/1291583/', 'https://movie.douban.com/subject/21937445/', 'https://movie.douban.com/subject/26752088/', 'https://movie.douban.com/subject/25807345/', 'https://movie.douban.com/subject/26628357/', 'https://movie.douban.com/subject/26374197/', 'https://movie.douban.com/subject/1291560/', 'https://movie.douban.com/subject/20495023/', 'https://movie.douban.com/subject/27622447/', 'https://movie.douban.com/subject/1292328/', 'https://movie.douban.com/subject/1291818/', 'https://movie.douban.com/subject/1787291/', 'https://movie.douban.com/subject/1291545/', 'https://movie.douban.com/subject/1307811/', 'https://movie.douban.com/subject/1299131/', 'https://movie.douban.com/subject/1307394/', 'https://movie.douban.com/subject/1305487/', 'https://movie.douban.com/subject/1294371/', 'https://movie.douban.com/subject/1291843/', 'https://movie.douban.com/subject/3552028/', 'https://movie.douban.com/subject/3793023/', 'https://movie.douban.com/subject/1292215/', 'https://movie.douban.com/subject/1303037/', 'https://movie.douban.com/subject/21937452/', 'https://movie.douban.com/subject/1297574/', 'https://movie.douban.com/subject/1308807/', 'https://movie.douban.com/subject/1307106/', 'https://movie.douban.com/subject/1292434/', 'https://movie.douban.com/subject/1291571/', 'https://movie.douban.com/subject/3792799/', 'https://movie.douban.com/subject/1316510/', 'https://movie.douban.com/subject/1295865/', 'https://movie.douban.com/subject/1304447/', 'https://movie.douban.com/subject/1907966/', 'https://movie.douban.com/subject/1298070/', 'https://movie.douban.com/subject/25814707/', 'https://movie.douban.com/subject/1300374/', 'https://movie.douban.com/subject/25814705/', 'https://movie.douban.com/subject/1461403/', 'https://movie.douban.com/subject/1297880/', 'https://movie.douban.com/subject/1292720/', 'https://movie.douban.com/subject/1828115/', 'https://movie.douban.com/subject/1293181/', 'https://movie.douban.com/subject/1291990/', 'https://movie.douban.com/subject/1293544/', 'https://movie.douban.com/subject/25864085/', 'https://movie.douban.com/subject/1294240/', 'https://movie.douban.com/subject/10437779/', 'https://movie.douban.com/subject/3592854/', 'https://movie.douban.com/subject/1292402/', 'https://movie.douban.com/subject/1293964/'}\n",
      "250\n"
     ]
    },
    {
     "data": {
      "text/plain": [
       "250"
      ]
     },
     "execution_count": 81,
     "metadata": {},
     "output_type": "execute_result"
    }
   ],
   "source": [
    "print(URL_SET)\n",
    "print(len(url_queue))\n",
    "\n",
    "len(URL_SET)"
   ]
  },
  {
   "cell_type": "code",
   "execution_count": null,
   "metadata": {},
   "outputs": [],
   "source": [
    "dict_header = ['电影名', '年份', '评分', '封面', '导演', '演员', '简介', '影评']"
   ]
  },
  {
   "cell_type": "code",
   "execution_count": 105,
   "metadata": {},
   "outputs": [
    {
     "name": "stdout",
     "output_type": "stream",
     "text": [
      "247\n",
      "250\n"
     ]
    }
   ],
   "source": [
    "print(len(url_queue))\n",
    "print(len(URL_SET))"
   ]
  },
  {
   "cell_type": "code",
   "execution_count": 119,
   "metadata": {},
   "outputs": [
    {
     "name": "stdout",
     "output_type": "stream",
     "text": [
      "241\n",
      "240\n",
      "240影数 10\n"
     ]
    }
   ],
   "source": [
    "print(len(url_queue))\n",
    "url = url_queue.pop(0)\n",
    "print(len(url_queue))\n",
    "crawl_related_movie(url)\n",
    "print(len(url_queue))\n"
   ]
  },
  {
   "cell_type": "code",
   "execution_count": null,
   "metadata": {},
   "outputs": [],
   "source": []
  }
 ],
 "metadata": {
  "kernelspec": {
   "display_name": "Python 3",
   "language": "python",
   "name": "python3"
  },
  "language_info": {
   "codemirror_mode": {
    "name": "ipython",
    "version": 3
   },
   "file_extension": ".py",
   "mimetype": "text/x-python",
   "name": "python",
   "nbconvert_exporter": "python",
   "pygments_lexer": "ipython3",
   "version": "3.8.10"
  }
 },
 "nbformat": 4,
 "nbformat_minor": 2
}
