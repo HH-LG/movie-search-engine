{
 "cells": [
  {
   "cell_type": "code",
   "execution_count": 2,
   "metadata": {},
   "outputs": [
    {
     "data": {
      "text/plain": [
       "<generator object Tokenizer.cut at 0x000001FABB6CF510>"
      ]
     },
     "execution_count": 2,
     "metadata": {},
     "output_type": "execute_result"
    }
   ],
   "source": [
    "import jieba\n"
   ]
  },
  {
   "cell_type": "code",
   "execution_count": 5,
   "metadata": {},
   "outputs": [
    {
     "name": "stdout",
     "output_type": "stream",
     "text": [
      "我\n",
      "来到\n",
      "北京\n",
      "清华大学\n"
     ]
    }
   ],
   "source": [
    "for w in jieba.cut(\"我来到北京清华大学\"):\n",
    "    print(w)"
   ]
  },
  {
   "cell_type": "code",
   "execution_count": 1,
   "metadata": {},
   "outputs": [
    {
     "name": "stderr",
     "output_type": "stream",
     "text": [
      "Building prefix dict from the default dictionary ...\n",
      "Loading model from cache C:\\Users\\24746\\AppData\\Local\\Temp\\jieba.cache\n",
      "Loading model cost 0.512 seconds.\n",
      "Prefix dict has been built successfully.\n"
     ]
    },
    {
     "name": "stdout",
     "output_type": "stream",
     "text": [
      "[('你', 0.21617141366004944), ('可以', 0.044689226895570755), ('一些', 0.015025208704173565), ('自己', 0.0019510718993842602), ('这些', -0.03284316137433052)]\n"
     ]
    }
   ],
   "source": [
    "import jieba\n",
    "from gensim.models import Word2Vec\n",
    "\n",
    "# 假设你有一些文本数据\n",
    "texts = [\"这是一些示例文本\", \"你可以用你自己的数据替换这些文本\"]\n",
    "\n",
    "# 使用jieba进行分词\n",
    "texts = [list(jieba.cut(text)) for text in texts]\n",
    "\n",
    "# 使用gensim的Word2Vec模型训练词向量\n",
    "model = Word2Vec(texts, vector_size=100, window=5, min_count=1, workers=4)\n",
    "\n",
    "# 使用训练好的词向量模型找到近义词\n",
    "similar_words = model.wv.most_similar(\"示例\", topn=5)\n",
    "\n",
    "print(similar_words)"
   ]
  }
 ],
 "metadata": {
  "kernelspec": {
   "display_name": "Python 3",
   "language": "python",
   "name": "python3"
  },
  "language_info": {
   "codemirror_mode": {
    "name": "ipython",
    "version": 3
   },
   "file_extension": ".py",
   "mimetype": "text/x-python",
   "name": "python",
   "nbconvert_exporter": "python",
   "pygments_lexer": "ipython3",
   "version": "3.8.10"
  }
 },
 "nbformat": 4,
 "nbformat_minor": 2
}
